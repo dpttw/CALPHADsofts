{
 "cells": [
  {
   "cell_type": "markdown",
   "metadata": {},
   "source": [
    "# By Shengyen Li, shengyen.li@swri.org"
   ]
  },
  {
   "cell_type": "code",
   "execution_count": 1,
   "metadata": {},
   "outputs": [],
   "source": [
    "import os\n",
    "import sys\n",
    "\n",
    "import matplotlib.pyplot as plt\n",
    "\n",
    "%matplotlib inline\n",
    "\n",
    "\n",
    "import numpy as np\n",
    "import pandas as pd\n",
    "\n",
    "import dask\n",
    "from dask import delayed"
   ]
  },
  {
   "cell_type": "code",
   "execution_count": null,
   "metadata": {},
   "outputs": [],
   "source": [
    "# only if you have TC Python interface\n",
    "#\n",
    "from tc_python import *"
   ]
  },
  {
   "cell_type": "markdown",
   "metadata": {},
   "source": [
    "# Calculations using TC-Python"
   ]
  },
  {
   "cell_type": "code",
   "execution_count": 2,
   "metadata": {},
   "outputs": [],
   "source": [
    "#\n",
    "# TC Module\n",
    "#\n",
    "class CALPHADModule:\n",
    "    \n",
    "    def __init__(self, databases, elements):\n",
    "\n",
    "        self.databases = databases\n",
    "\n",
    "        #\n",
    "        # use absolute path\n",
    "        #\n",
    "        self.DBPath = [os.path.join(os.path.abspath(''), 'CALPHAD_DBs', x) for x in self.databases]\n",
    "        \n",
    "\n",
    "        #\n",
    "        # first of the array is the major element\n",
    "        #\n",
    "        self.elements = elements\n",
    "\n",
    "        #self.TCDBs = os.listdir(\"C:\\\\Program Files\\\\Thermo-Calc\\\\2019a\\\\data\")\n",
    "        self.TCDBs = os.path.join(\"C\",\"Users\",\"sli\",\"Thermo-Calc\",\"2019a\",\"data\")\n",
    "        \n",
    "        \n",
    "    #\n",
    "    # the phases variable only works when rejectPhases == \"*\" \n",
    "    #\n",
    "    def TCEq(self,printOut,conditions,rejectPhases,phases):\n",
    "\n",
    "        if(printOut):\n",
    "            print(\"============================================\")\n",
    "            print(conditions)\n",
    "\n",
    "\n",
    "        No_conds_ = len(list(conditions.keys()))\n",
    "\n",
    "        if(No_conds_ != len(self.elements)): print(\"degree of freedom is not satisfied\")\n",
    "        \n",
    "            \n",
    "            \n",
    "        with TCPython() as session:\n",
    "        #with TCPython(logging_policy=LoggingPolicy.NONE) as session:\n",
    "\n",
    "            #\n",
    "            # Create equilibrium calculation object and set condtions\n",
    "            #\n",
    "            cachePath = \"TC_cache\\\\\"+str(os.getpid())\n",
    "            eq_calculation = session.set_cache_folder(cachePath)\n",
    "            \n",
    "            \n",
    "            #\n",
    "            # 04/24/2019\n",
    "            # full equilibrium calculations don't need the mobility database\n",
    "            #\n",
    "            idb_ = 0\n",
    "                \n",
    "            if(self.databases[idb_] in self.TCDBs):\n",
    "                eq_calculation = eq_calculation.select_database_and_elements(self.databases[idb_], self.elements)\n",
    "\n",
    "                if(rejectPhases):\n",
    "\n",
    "                    if(rejectPhases[0] == \"*\"):\n",
    "                        eq_calculation = eq_calculation.deselect_phase(\"*\")\n",
    "                        for phase_ in phases:\n",
    "                            eq_calculation = eq_calculation.select_phase(phase_)\n",
    "\n",
    "\n",
    "                    else:\n",
    "                        for phase_ in rejectPhases:\n",
    "                            eq_calculation = eq_calculation.deselect_phase(phase_)\n",
    "\n",
    "\n",
    "\n",
    "            else:\n",
    "                eq_calculation = eq_calculation.select_user_database_and_elements(self.DBPath[idb_], self.elements)\n",
    "\n",
    "                if(rejectPhases):\n",
    "\n",
    "                    if(rejectPhases[0] == \"*\"):\n",
    "                        eq_calculation = eq_calculation.deselect_phase(\"*\")\n",
    "                        for phase_ in phases:\n",
    "                            eq_calculation = eq_calculation.select_phase(phase_)\n",
    "\n",
    "\n",
    "                    else:\n",
    "                        for phase_ in rejectPhases:\n",
    "                            eq_calculation = eq_calculation.deselect_phase(phase_)\n",
    "\n",
    "                    \n",
    "\n",
    "            try:\n",
    "                eq_calculation = eq_calculation.get_system()\n",
    "            except:\n",
    "                sys.exit(\"Incorrect database information. \")\n",
    "                \n",
    "                \n",
    "                \n",
    "            if(printOut): print(\"Phases in calculation: \",eq_calculation.get_phases_in_system())\n",
    "            \n",
    "            \n",
    "            system_phases = np.array(eq_calculation.get_phases_in_system())\n",
    "            if(printOut): print(\"%d phases included in this system:  \" % len(system_phases))\n",
    "\n",
    "\n",
    "            eq_calculation = eq_calculation.with_single_equilibrium_calculation()\n",
    "            eq_calculation.set_condition(\"P\", 100000.0).set_condition(\"N\", 1.0)\n",
    "\n",
    "            #\n",
    "            # Calculate equilibrium and list stable phases\n",
    "            #\n",
    "            for cond_ in list(conditions.keys()):\n",
    "                eq_calculation.set_condition(cond_,conditions[cond_])\n",
    "\n",
    "            calc_result = eq_calculation.calculate()\n",
    "\n",
    "            \n",
    "            #\n",
    "            # stable phase and information\n",
    "            #\n",
    "            stable_phases = calc_result.get_stable_phases()\n",
    "\n",
    "            \n",
    "            #\n",
    "            # phase composition under equilibrium consition\n",
    "            #\n",
    "            conds_ = list(conditions.keys())\n",
    "            conds_.remove(\"T\")\n",
    "\n",
    "            \n",
    "            phaseProp = {}\n",
    "            \n",
    "            properties = {}\n",
    "            for elem_ in self.elements:\n",
    "                temp_ = \"ACR(\" + elem_ + \")\"\n",
    "                properties[elem_] = calc_result.get_value_of(temp_)\n",
    "\n",
    "            phaseProp[\"ACR\"] = properties\n",
    "\n",
    "            \n",
    "            \n",
    "            for stable_phase in stable_phases:\n",
    "                properties = {}\n",
    "                \n",
    "                for cond_ in conds_:\n",
    "                    temp_ = cond_[:2] + stable_phase + \",\" + cond_[2:]\n",
    "                    properties[cond_] = round(calc_result.get_value_of(temp_),8)\n",
    "                    \n",
    "                    \n",
    "                PhaseFraction = round(calc_result.get_value_of('NP('+stable_phase+')'),8)\n",
    "                if(printOut): print(\"stable_phase:  \", stable_phase, \"fraction:  \", PhaseFraction)\n",
    "\n",
    "                properties[\"PhaseFraction\"] = PhaseFraction\n",
    "                \n",
    "                \n",
    "                GM = round(calc_result.get_value_of('GM('+stable_phase+')'),8)\n",
    "                if(printOut): print(\"Gibbs free energy:  \", GM)\n",
    "\n",
    "                properties[\"GM\"] = GM\n",
    "                \n",
    "\n",
    "                #\n",
    "                # if the molar volume is included in database\n",
    "                # if not, VM=0\n",
    "                #\n",
    "                try:\n",
    "                    VM = calc_result.get_value_of('VM('+stable_phase+')')\n",
    "                    if(printOut): print(\"Molar Volume:  \", VM)\n",
    "\n",
    "                    properties[\"VM\"] = VM\n",
    "                    \n",
    "                except:\n",
    "                    properties[\"VM\"] = 0.\n",
    "                \n",
    "                \n",
    "                phaseProp[stable_phase] = properties\n",
    "                \n",
    "                                \n",
    "                    \n",
    "            #\n",
    "            # calculate solidus temperature and list stable phases\n",
    "            # \n",
    "            #\n",
    "            if(not rejectPhases):\n",
    "                \n",
    "                try:\n",
    "                    phaseProp[\"VM\"] = calc_result.get_value_of('VM')\n",
    "                except:\n",
    "                    phaseProp[\"VM\"] = 0.\n",
    "                \n",
    "                \n",
    "                calc_result = (eq_calculation.\n",
    "                               remove_condition(ThermodynamicQuantity.temperature()).\n",
    "                               set_phase_to_fixed(\"LIQUID\", 0.0).\n",
    "                               calculate())\n",
    "\n",
    "                phaseProp[\"solidus\"] = calc_result.get_value_of(ThermodynamicQuantity.temperature())\n",
    "\n",
    "\n",
    "                calc_result = (eq_calculation.\n",
    "                               set_phase_to_fixed(\"LIQUID\", 1.0).\n",
    "                               calculate())\n",
    "\n",
    "                phaseProp[\"liquidus\"] = calc_result.get_value_of(ThermodynamicQuantity.temperature())\n",
    "\n",
    "                    \n",
    "        return(phaseProp)"
   ]
  },
  {
   "cell_type": "markdown",
   "metadata": {},
   "source": [
    "# Define a function for DASK\n",
    "## the equilibrium conditions are: X(Al)=0.075 and X(Cr)=0.085"
   ]
  },
  {
   "cell_type": "code",
   "execution_count": 3,
   "metadata": {},
   "outputs": [],
   "source": [
    "def daskFunction(T_):\n",
    "    \n",
    "    CALPHAD_Calculation = CALPHADModule(CALPHAD_DBs, elements)\n",
    "    \n",
    "    if((isinstance(T_, float)) or (isinstance(T_, int))):\n",
    "        cond = {\"X(Al)\":0.075,\"X(Cr)\":0.085,\"T\":T_}\n",
    "        eqProperty = CALPHAD_Calculation.TCEq(printOut,cond,[],[])  #[\"ACR\"][\"Ni\"]\n",
    "        \n",
    "  \n",
    "    else:\n",
    "        eqProperty = []\n",
    "        for T__ in T_:\n",
    "            cond = {\"X(Al)\":0.075,\"X(Cr)\":0.085,\"T\":T__}\n",
    "            eqProperty.extend([CALPHAD_Calculation.TCEq(printOut,cond,[],[])])\n",
    "    \n",
    "\n",
    "    return(eqProperty)"
   ]
  },
  {
   "cell_type": "markdown",
   "metadata": {},
   "source": [
    "# Use MatClac database to calculate Ni-Al-Cr alloy"
   ]
  },
  {
   "cell_type": "code",
   "execution_count": 4,
   "metadata": {},
   "outputs": [],
   "source": [
    "CALPHAD_DBs = [\"mc_ni_v2.033_SLi_PC.tdb\"]\n",
    "elements = [\"Ni\",\"Al\",\"Cr\"]\n",
    "\n",
    "targetPhase = \"GAMMA_PRIME#1\"\n",
    "\n",
    "\n",
    "printOut = False"
   ]
  },
  {
   "cell_type": "markdown",
   "metadata": {},
   "source": [
    "# Sequential calculations calling TC-Python"
   ]
  },
  {
   "cell_type": "code",
   "execution_count": 5,
   "metadata": {},
   "outputs": [
    {
     "name": "stdout",
     "output_type": "stream",
     "text": [
      "Wall time: 1min 16s\n"
     ]
    }
   ],
   "source": [
    "%%time\n",
    "\n",
    "printOut=False\n",
    "\n",
    "temperature = np.linspace(273,973,endpoint=True,num=21)\n",
    "seqProp = daskFunction(temperature)"
   ]
  },
  {
   "cell_type": "markdown",
   "metadata": {},
   "source": [
    "# DASK manages the same calculations"
   ]
  },
  {
   "cell_type": "code",
   "execution_count": 6,
   "metadata": {
    "scrolled": false
   },
   "outputs": [
    {
     "name": "stdout",
     "output_type": "stream",
     "text": [
      "Wall time: 12 s\n"
     ]
    }
   ],
   "source": [
    "%%time\n",
    "\n",
    "\n",
    "temperature = np.linspace(273,973,endpoint=True,num=21)\n",
    "\n",
    "#prop = daskFunction(temperature)\n",
    "prop = [delayed(daskFunction)(temp_) for temp_ in temperature]\n",
    "\n",
    "\n",
    "#'threading', 'processes', 'sync'\n",
    "#prop = dask.compute(prop,scheduler='sync')[0]\n",
    "prop = dask.compute(prop,scheduler='processes')[0]\n",
    "\n",
    "\n",
    "#client.close()\n"
   ]
  },
  {
   "cell_type": "markdown",
   "metadata": {},
   "source": [
    "# setup for PyCALPHAD"
   ]
  },
  {
   "cell_type": "code",
   "execution_count": 7,
   "metadata": {},
   "outputs": [],
   "source": [
    "from pycalphad import equilibrium, Database\n",
    "import pycalphad.variables as v"
   ]
  },
  {
   "cell_type": "code",
   "execution_count": 8,
   "metadata": {
    "scrolled": false
   },
   "outputs": [
    {
     "name": "stdout",
     "output_type": "stream",
     "text": [
      "Wall time: 42.9 s\n"
     ]
    }
   ],
   "source": [
    "%%time\n",
    "\n",
    "\n",
    "CALPHAD_DBs = [\"mc_ni_v2.033_SLi_PC.tdb\"]\n",
    "elements = [\"NI\",\"AL\",\"CR\",\"VA\"]\n",
    "\n",
    "\n",
    "TDB = Database(os.path.join(os.path.abspath(''), 'CALPHAD_DBs', CALPHAD_DBs[0]))\n",
    "AllPhases = TDB.phases.keys()\n",
    "\n",
    "\n",
    "eq = equilibrium(TDB, elements, AllPhases, {v.X('AL'): 0.075, v.X('CR'): 0.085, v.T: (273, 974, 35), v.P: 101325})\n",
    "\n",
    "phase_indices = eq.Phase.values == targetPhase[:-2]\n",
    "\n",
    "#\n",
    "# If the target phase is not stable, temperature data will not match phase data\n",
    "#\n",
    "PyT = []\n",
    "PyProp = []\n",
    "for ind_ in range(phase_indices.shape[2]):\n",
    "    if(any(phase_indices[0,0,ind_,0,0])):\n",
    "        \n",
    "        PyT.extend([eq['T'].values[ind_]])\n",
    "        PyProp.extend([eq.NP.values[phase_indices][ind_]])"
   ]
  },
  {
   "cell_type": "markdown",
   "metadata": {},
   "source": [
    "# Calculation time:\n",
    "## TC-Python: 76s\n",
    "## DASK + TC-Python: 12s\n",
    "## PyCALPHAD: 42.9s"
   ]
  },
  {
   "cell_type": "code",
   "execution_count": 9,
   "metadata": {},
   "outputs": [
    {
     "data": {
      "image/png": "[encoded data removed]",
      "text/plain": [
       "<Figure size 1152x648 with 1 Axes>"
      ]
     },
     "metadata": {
      "needs_background": "light"
     },
     "output_type": "display_data"
    }
   ],
   "source": [
    "fig, ax = plt.subplots(figsize=(16,9))\n",
    "\n",
    "for ind_ in range(len(seqProp)):\n",
    "    try:\n",
    "        phase = [seqProp[ind_][targetPhase]['PhaseFraction']]\n",
    "        ax.plot(temperature[ind_],phase,'o',c='b',ms=15,label=\"Sequential\")\n",
    "        \n",
    "    except:\n",
    "        pass\n",
    "    \n",
    "for ind_ in range(len(prop)):\n",
    "    try:\n",
    "        phase = [prop[ind_][targetPhase]['PhaseFraction']]\n",
    "        ax.plot(temperature[ind_],phase,'*',c='r',ms=10,label=\"DASK\")\n",
    "        \n",
    "    except:\n",
    "        pass\n",
    "\n",
    "    \n",
    "ax.plot(PyT,PyProp,'^',c='y',ms=10,label=\"PyCALPHAD\")\n",
    "\n",
    "\n",
    "ax.set_xlabel(\"T, Kelvin\", fontsize=25, labelpad=15)\n",
    "ax.set_ylabel(\"np(\"+targetPhase+\")\", fontsize=25, labelpad=15)\n",
    "\n",
    "ax.tick_params(axis='x', labelsize=15, pad = 10)\n",
    "ax.tick_params(axis='y', labelsize=15, pad = 10)\n",
    "\n",
    "\n",
    "ax.locator_params(axis='x',nbins=5)\n",
    "ax.locator_params(axis='y',nbins=5)\n",
    "\n",
    "\n",
    "# ======================================================================\n",
    "handles, labels = ax.get_legend_handles_labels()\n",
    "uniqueLabels = list(set(labels))\n",
    "\n",
    "index_ = [labels.index(lab) for lab in uniqueLabels]\n",
    "index_.sort()\n",
    "\n",
    "\n",
    "hand = [handles[ind_] for ind_ in index_]\n",
    "lab = [labels[ind_] for ind_ in index_]\n",
    "\n",
    "\n",
    "leg = plt.legend(hand, lab, loc='best', fontsize=18, scatterpoints=1, framealpha=1)\n",
    "# ======================================================================\n",
    "\n",
    "plt.show()"
   ]
  },
  {
   "cell_type": "markdown",
   "metadata": {},
   "source": [
    "# PyCALPHAD misses the highest temperature."
   ]
  },
  {
   "cell_type": "code",
   "execution_count": null,
   "metadata": {},
   "outputs": [],
   "source": []
  }
 ],
 "metadata": {
  "kernelspec": {
   "display_name": "Python 3",
   "language": "python",
   "name": "python3"
  },
  "language_info": {
   "codemirror_mode": {
    "name": "ipython",
    "version": 3
   },
   "file_extension": ".py",
   "mimetype": "text/x-python",
   "name": "python",
   "nbconvert_exporter": "python",
   "pygments_lexer": "ipython3",
   "version": "3.7.3"
  }
 },
 "nbformat": 4,
 "nbformat_minor": 2
}
